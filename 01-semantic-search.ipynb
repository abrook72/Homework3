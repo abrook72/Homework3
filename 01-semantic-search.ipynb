{
  "cells": [
    {
      "cell_type": "code",
      "execution_count": null,
      "metadata": {
        "id": "hJbZ22zZ7yPi"
      },
      "outputs": [],
      "source": [
        "#!pip install -U sentence-transformers\n",
        "#!pip install datasets"
      ]
    },
    {
      "cell_type": "code",
      "execution_count": null,
      "metadata": {
        "id": "6zQLM84377Xf"
      },
      "outputs": [],
      "source": [
        "import json\n",
        "from sentence_transformers import SentenceTransformer, CrossEncoder, util\n",
        "import time\n",
        "import gzip\n",
        "import os\n",
        "import torch\n",
        "\n",
        "if not torch.cuda.is_available():\n",
        "  print(\"Warning: No GPU found. Please add GPU to your notebook\")\n",
        "\n",
        "\n",
        "# We use the Bi-Encoder to encode all passages, so that we can use it with sematic search\n",
        "model_name = 'nq-distilbert-base-v1'\n",
        "bi_encoder = SentenceTransformer(model_name)\n",
        "top_k = 5  # Number of passages we want to retrieve with the bi-encoder\n",
        "\n",
        "\n",
        "from datasets import load_dataset\n",
        "ds = load_dataset(\"Coder-Dragon/wikipedia-movies\", split='train[:1000]')\n",
        "\n"
      ]
    },
    {
      "cell_type": "code",
      "execution_count": null,
      "metadata": {
        "colab": {
          "base_uri": "https://localhost:8080/"
        },
        "id": "9VbBjBIGkTt-",
        "outputId": "cdef313c-d664-4dc9-97f0-3609489ea7bb"
      },
      "outputs": [
        {
          "output_type": "execute_result",
          "data": {
            "text/plain": [
              "Dataset({\n",
              "    features: ['Release Year', 'Title', 'Origin/Ethnicity', 'Director', 'Cast', 'Genre', 'Wiki Page', 'Plot', 'Image'],\n",
              "    num_rows: 1000\n",
              "})"
            ]
          },
          "metadata": {},
          "execution_count": 15
        }
      ],
      "source": [
        "ds"
      ]
    },
    {
      "cell_type": "code",
      "execution_count": null,
      "metadata": {
        "id": "lGB2m63ceV_V"
      },
      "outputs": [],
      "source": [
        "titles = ds['Title']\n",
        "plots = ds['Plot']"
      ]
    },
    {
      "cell_type": "code",
      "execution_count": null,
      "metadata": {
        "colab": {
          "base_uri": "https://localhost:8080/",
          "height": 49,
          "referenced_widgets": [
            "a733250b5ebe4e279ada071f321fd298",
            "3c8b317794b64486a2324b88c62d1b2d",
            "98cb7306fc754623a9aecb57f8538d98",
            "9ad3e4a321d149f1b96baaa7619aff6c",
            "b1baa41fdb5346f095521c22f73d0962",
            "cf3e70e6224f4ca28bd50c16db590012",
            "2dfbaa7eca0d4b3da163cce9a72212ea",
            "26e2991c906e4fbea2f2da632f8d0a3d",
            "ba815336e2c947989a40f3382f098be0",
            "830ecb8b3ad74b13861ef94f0bd92916",
            "34b23bec0e96416291ecff8bdb77fcc5"
          ]
        },
        "id": "ppjRxKfzTEZh",
        "outputId": "7b61f1dd-b25f-41d4-98e4-338423660799"
      },
      "outputs": [
        {
          "output_type": "display_data",
          "data": {
            "text/plain": [
              "Batches:   0%|          | 0/32 [00:00<?, ?it/s]"
            ],
            "application/vnd.jupyter.widget-view+json": {
              "version_major": 2,
              "version_minor": 0,
              "model_id": "a733250b5ebe4e279ada071f321fd298"
            }
          },
          "metadata": {}
        }
      ],
      "source": [
        "# To speed things up, pre-computed embeddings are downloaded.\n",
        "# The provided file encoded the passages with the model 'nq-distilbert-base-v1'\n",
        "if model_name == 'nq-distilbert-base-v1':\n",
        "    corpus = [title + \" \" + plot for title, plot in zip(titles, plots)]\n",
        "    corpus_embeddings = bi_encoder.encode(corpus, convert_to_tensor=True, show_progress_bar=True)\n",
        "    #if torch.cuda.is_available():\n",
        "    corpus_embeddings = corpus_embeddings.to('cuda')"
      ]
    },
    {
      "cell_type": "code",
      "execution_count": null,
      "metadata": {
        "id": "ay9y6HdQ8Dx2"
      },
      "outputs": [],
      "source": [
        "def search(query):\n",
        "    # Encode the query using the bi-encoder and find potentially relevant passages\n",
        "    start_time = time.time()\n",
        "    question_embedding = bi_encoder.encode(query, convert_to_tensor=True)\n",
        "    hits = util.semantic_search(question_embedding, corpus_embeddings, top_k=top_k)\n",
        "    hits = hits[0]  # Get the hits for the first query\n",
        "    end_time = time.time()\n",
        "\n",
        "    # Output of top-k hits\n",
        "    print(\"Input question:\", query)\n",
        "    print(\"Results (after {:.3f} seconds):\".format(end_time - start_time))\n",
        "    for hit in hits:\n",
        "       print(\"\\t{:.3f}\\t{}\".format(hit['score'], titles[hit['corpus_id']]))"
      ]
    },
    {
      "cell_type": "code",
      "execution_count": null,
      "metadata": {
        "colab": {
          "base_uri": "https://localhost:8080/"
        },
        "id": "CevdP07YofFn",
        "outputId": "75fffbb8-55d9-4d41-c3d2-7dae752f6974"
      },
      "outputs": [
        {
          "output_type": "stream",
          "name": "stdout",
          "text": [
            "Input question: Documentaries showcasing indigenous peoples' survival and daily life in Arctic regions\n",
            "Results (after 0.025 seconds):\n",
            "\t0.452\tNanook of the North\n",
            "\t0.313\tDavid Copperfield\n",
            "\t0.275\tStraight Shooting\n",
            "\t0.268\tThe Frozen North\n",
            "\t0.244\tThe Salvation Hunters\n"
          ]
        }
      ],
      "source": [
        "search(query = \"Documentaries showcasing indigenous peoples' survival and daily life in Arctic regions\")"
      ]
    },
    {
      "cell_type": "code",
      "execution_count": null,
      "metadata": {
        "colab": {
          "base_uri": "https://localhost:8080/"
        },
        "id": "yzYTZ62j8JYv",
        "outputId": "b452e8ce-da75-408a-f36f-c7c8a445ff20"
      },
      "outputs": [
        {
          "output_type": "stream",
          "name": "stdout",
          "text": [
            "Input question: Western romance\n",
            "Results (after 0.021 seconds):\n",
            "\t0.305\tRomance\n",
            "\t0.273\tThe Great Gatsby\n",
            "\t0.269\tYouth's Endearing Charm\n",
            "\t0.268\tA Little Journey\n",
            "\t0.263\tFrankenstein\n"
          ]
        }
      ],
      "source": [
        "search(query = \"Western romance\")"
      ]
    },
    {
      "cell_type": "code",
      "execution_count": null,
      "metadata": {
        "colab": {
          "base_uri": "https://localhost:8080/"
        },
        "id": "i09OgOIz8K-u",
        "outputId": "d9976d6b-d862-43e6-ba96-a75a27ae1783"
      },
      "outputs": [
        {
          "output_type": "stream",
          "name": "stdout",
          "text": [
            "Input question: Silent film about a Parisian star moving to Egypt, leaving her husband for a baron, and later reconciling after finding her family in poverty in Cairo.\n",
            "Results (after 0.011 seconds):\n",
            "\t0.497\tMarried in Hollywood\n",
            "\t0.441\tThe Gay Deceiver\n",
            "\t0.419\tOne Hysterical Night\n",
            "\t0.417\tFifty Million Frenchmen\n",
            "\t0.415\tThe King on Main Street\n"
          ]
        }
      ],
      "source": [
        "search(query = \"Silent film about a Parisian star moving to Egypt, leaving her husband for a baron, and later reconciling after finding her family in poverty in Cairo.\")"
      ]
    },
    {
      "cell_type": "code",
      "execution_count": null,
      "metadata": {
        "colab": {
          "base_uri": "https://localhost:8080/"
        },
        "id": "I34QJmac8MGm",
        "outputId": "eaa9b60a-7dce-4216-b4d0-3d52490a886d"
      },
      "outputs": [
        {
          "output_type": "stream",
          "name": "stdout",
          "text": [
            "Input question: Comedy film, office disguises, boss's daughter, elopement.\n",
            "Results (after 0.030 seconds):\n",
            "\t0.393\tDressed to Kill\n",
            "\t0.388\tYouth's Endearing Charm\n",
            "\t0.366\tA Little Journey\n",
            "\t0.354\tThe Boy Friend\n",
            "\t0.330\tManhandled\n"
          ]
        }
      ],
      "source": [
        "search(query = \"Comedy film, office disguises, boss's daughter, elopement.\")"
      ]
    },
    {
      "cell_type": "code",
      "execution_count": null,
      "metadata": {
        "colab": {
          "base_uri": "https://localhost:8080/"
        },
        "id": "07Y5IlfY8NYO",
        "outputId": "63e35429-d45a-4293-bc3c-6d43819104e9"
      },
      "outputs": [
        {
          "output_type": "stream",
          "name": "stdout",
          "text": [
            "Input question: Lost film, Cleopatra charms Caesar, plots world rule, treasures from mummy, revels with Antony, tragic end with serpent in Alexandria.\n",
            "Results (after 0.012 seconds):\n",
            "\t0.560\tCleopatra\n",
            "\t0.372\tThe Lost World\n",
            "\t0.356\tThe Man Who Lost Himself\n",
            "\t0.336\tThe Golden Louis\n",
            "\t0.318\tReaching for the Moon\n"
          ]
        }
      ],
      "source": [
        "search(query = \"Lost film, Cleopatra charms Caesar, plots world rule, treasures from mummy, revels with Antony, tragic end with serpent in Alexandria.\")"
      ]
    },
    {
      "cell_type": "code",
      "execution_count": null,
      "metadata": {
        "colab": {
          "base_uri": "https://localhost:8080/"
        },
        "id": "-Vwl92Sj8OfH",
        "outputId": "0956ca8a-74a6-4480-e88f-f6900dae00b5"
      },
      "outputs": [
        {
          "output_type": "stream",
          "name": "stdout",
          "text": [
            "Input question: Denis Gage Deane-Tanner\n",
            "Results (after 0.020 seconds):\n",
            "\t0.360\tThe Man in Possession\n",
            "\t0.338\tSouls for Sale\n",
            "\t0.336\tThe Man from Blankley's\n",
            "\t0.305\tOld Clothes\n",
            "\t0.303\tBlind Youth\n"
          ]
        }
      ],
      "source": [
        "search(query = \"Denis Gage Deane-Tanner\")"
      ]
    },
    {
      "cell_type": "markdown",
      "metadata": {
        "id": "8Z6xlPrJsum_"
      },
      "source": [
        "# Analysis"
      ]
    },
    {
      "cell_type": "markdown",
      "metadata": {
        "id": "fhJ-fzcHwJ4w"
      },
      "source": [
        "Recall@1:\n",
        " 2 positive and 6 total, so the Recall@1 is 0.333"
      ]
    },
    {
      "cell_type": "markdown",
      "source": [
        "Mean Reciprocal Rank (MRR):\n",
        "\n",
        "The MRR would be 1/1, 0/5, 0/5, 1/1, 0/5 and 0/5. so the total 2/6 = 0.333"
      ],
      "metadata": {
        "id": "zFhmAbTI3ipP"
      }
    },
    {
      "cell_type": "markdown",
      "source": [
        "What type of queries tend to do well? Which not so well?\n",
        "\n",
        "\n",
        "The queries I noticed that do well are queries that have more unique words. For exmaple, the first query talked about \"indigenous people\" and \"artic\" these two words are more unique then \"comedy\" or \"western romance\". Because of how semantic search works with cosine similarity, if you use more unique words and especially if they combo with one another in other text files (like \"indigenous\" and \"artic\") the model is a lot more accurate.\n"
      ],
      "metadata": {
        "id": "PUrAyEnP4uQ7"
      }
    },
    {
      "cell_type": "markdown",
      "source": [
        "For the queries that the model didn’t perform\n",
        "well, what could be two alternative\n",
        "approaches?\n",
        "\n",
        "1. More descriptive queries, for example: \"western romance\" is a vague query. I am not sure if a human could figure that out, let alone a machine or model.\n",
        "\n",
        "2. Another way could be affecting the weight of how title and plot are used in the query. I think this could allow the model to run a better semantic search as the plot has more information then the title."
      ],
      "metadata": {
        "id": "NOfpZ0t857F9"
      }
    }
  ],
  "metadata": {
    "accelerator": "GPU",
    "colab": {
      "gpuType": "T4",
      "provenance": []
    },
    "kernelspec": {
      "display_name": "Python 3",
      "name": "python3"
    },
    "widgets": {
      "application/vnd.jupyter.widget-state+json": {
        "a733250b5ebe4e279ada071f321fd298": {
          "model_module": "@jupyter-widgets/controls",
          "model_name": "HBoxModel",
          "model_module_version": "1.5.0",
          "state": {
            "_dom_classes": [],
            "_model_module": "@jupyter-widgets/controls",
            "_model_module_version": "1.5.0",
            "_model_name": "HBoxModel",
            "_view_count": null,
            "_view_module": "@jupyter-widgets/controls",
            "_view_module_version": "1.5.0",
            "_view_name": "HBoxView",
            "box_style": "",
            "children": [
              "IPY_MODEL_3c8b317794b64486a2324b88c62d1b2d",
              "IPY_MODEL_98cb7306fc754623a9aecb57f8538d98",
              "IPY_MODEL_9ad3e4a321d149f1b96baaa7619aff6c"
            ],
            "layout": "IPY_MODEL_b1baa41fdb5346f095521c22f73d0962"
          }
        },
        "3c8b317794b64486a2324b88c62d1b2d": {
          "model_module": "@jupyter-widgets/controls",
          "model_name": "HTMLModel",
          "model_module_version": "1.5.0",
          "state": {
            "_dom_classes": [],
            "_model_module": "@jupyter-widgets/controls",
            "_model_module_version": "1.5.0",
            "_model_name": "HTMLModel",
            "_view_count": null,
            "_view_module": "@jupyter-widgets/controls",
            "_view_module_version": "1.5.0",
            "_view_name": "HTMLView",
            "description": "",
            "description_tooltip": null,
            "layout": "IPY_MODEL_cf3e70e6224f4ca28bd50c16db590012",
            "placeholder": "​",
            "style": "IPY_MODEL_2dfbaa7eca0d4b3da163cce9a72212ea",
            "value": "Batches: 100%"
          }
        },
        "98cb7306fc754623a9aecb57f8538d98": {
          "model_module": "@jupyter-widgets/controls",
          "model_name": "FloatProgressModel",
          "model_module_version": "1.5.0",
          "state": {
            "_dom_classes": [],
            "_model_module": "@jupyter-widgets/controls",
            "_model_module_version": "1.5.0",
            "_model_name": "FloatProgressModel",
            "_view_count": null,
            "_view_module": "@jupyter-widgets/controls",
            "_view_module_version": "1.5.0",
            "_view_name": "ProgressView",
            "bar_style": "success",
            "description": "",
            "description_tooltip": null,
            "layout": "IPY_MODEL_26e2991c906e4fbea2f2da632f8d0a3d",
            "max": 32,
            "min": 0,
            "orientation": "horizontal",
            "style": "IPY_MODEL_ba815336e2c947989a40f3382f098be0",
            "value": 32
          }
        },
        "9ad3e4a321d149f1b96baaa7619aff6c": {
          "model_module": "@jupyter-widgets/controls",
          "model_name": "HTMLModel",
          "model_module_version": "1.5.0",
          "state": {
            "_dom_classes": [],
            "_model_module": "@jupyter-widgets/controls",
            "_model_module_version": "1.5.0",
            "_model_name": "HTMLModel",
            "_view_count": null,
            "_view_module": "@jupyter-widgets/controls",
            "_view_module_version": "1.5.0",
            "_view_name": "HTMLView",
            "description": "",
            "description_tooltip": null,
            "layout": "IPY_MODEL_830ecb8b3ad74b13861ef94f0bd92916",
            "placeholder": "​",
            "style": "IPY_MODEL_34b23bec0e96416291ecff8bdb77fcc5",
            "value": " 32/32 [00:10&lt;00:00,  9.73it/s]"
          }
        },
        "b1baa41fdb5346f095521c22f73d0962": {
          "model_module": "@jupyter-widgets/base",
          "model_name": "LayoutModel",
          "model_module_version": "1.2.0",
          "state": {
            "_model_module": "@jupyter-widgets/base",
            "_model_module_version": "1.2.0",
            "_model_name": "LayoutModel",
            "_view_count": null,
            "_view_module": "@jupyter-widgets/base",
            "_view_module_version": "1.2.0",
            "_view_name": "LayoutView",
            "align_content": null,
            "align_items": null,
            "align_self": null,
            "border": null,
            "bottom": null,
            "display": null,
            "flex": null,
            "flex_flow": null,
            "grid_area": null,
            "grid_auto_columns": null,
            "grid_auto_flow": null,
            "grid_auto_rows": null,
            "grid_column": null,
            "grid_gap": null,
            "grid_row": null,
            "grid_template_areas": null,
            "grid_template_columns": null,
            "grid_template_rows": null,
            "height": null,
            "justify_content": null,
            "justify_items": null,
            "left": null,
            "margin": null,
            "max_height": null,
            "max_width": null,
            "min_height": null,
            "min_width": null,
            "object_fit": null,
            "object_position": null,
            "order": null,
            "overflow": null,
            "overflow_x": null,
            "overflow_y": null,
            "padding": null,
            "right": null,
            "top": null,
            "visibility": null,
            "width": null
          }
        },
        "cf3e70e6224f4ca28bd50c16db590012": {
          "model_module": "@jupyter-widgets/base",
          "model_name": "LayoutModel",
          "model_module_version": "1.2.0",
          "state": {
            "_model_module": "@jupyter-widgets/base",
            "_model_module_version": "1.2.0",
            "_model_name": "LayoutModel",
            "_view_count": null,
            "_view_module": "@jupyter-widgets/base",
            "_view_module_version": "1.2.0",
            "_view_name": "LayoutView",
            "align_content": null,
            "align_items": null,
            "align_self": null,
            "border": null,
            "bottom": null,
            "display": null,
            "flex": null,
            "flex_flow": null,
            "grid_area": null,
            "grid_auto_columns": null,
            "grid_auto_flow": null,
            "grid_auto_rows": null,
            "grid_column": null,
            "grid_gap": null,
            "grid_row": null,
            "grid_template_areas": null,
            "grid_template_columns": null,
            "grid_template_rows": null,
            "height": null,
            "justify_content": null,
            "justify_items": null,
            "left": null,
            "margin": null,
            "max_height": null,
            "max_width": null,
            "min_height": null,
            "min_width": null,
            "object_fit": null,
            "object_position": null,
            "order": null,
            "overflow": null,
            "overflow_x": null,
            "overflow_y": null,
            "padding": null,
            "right": null,
            "top": null,
            "visibility": null,
            "width": null
          }
        },
        "2dfbaa7eca0d4b3da163cce9a72212ea": {
          "model_module": "@jupyter-widgets/controls",
          "model_name": "DescriptionStyleModel",
          "model_module_version": "1.5.0",
          "state": {
            "_model_module": "@jupyter-widgets/controls",
            "_model_module_version": "1.5.0",
            "_model_name": "DescriptionStyleModel",
            "_view_count": null,
            "_view_module": "@jupyter-widgets/base",
            "_view_module_version": "1.2.0",
            "_view_name": "StyleView",
            "description_width": ""
          }
        },
        "26e2991c906e4fbea2f2da632f8d0a3d": {
          "model_module": "@jupyter-widgets/base",
          "model_name": "LayoutModel",
          "model_module_version": "1.2.0",
          "state": {
            "_model_module": "@jupyter-widgets/base",
            "_model_module_version": "1.2.0",
            "_model_name": "LayoutModel",
            "_view_count": null,
            "_view_module": "@jupyter-widgets/base",
            "_view_module_version": "1.2.0",
            "_view_name": "LayoutView",
            "align_content": null,
            "align_items": null,
            "align_self": null,
            "border": null,
            "bottom": null,
            "display": null,
            "flex": null,
            "flex_flow": null,
            "grid_area": null,
            "grid_auto_columns": null,
            "grid_auto_flow": null,
            "grid_auto_rows": null,
            "grid_column": null,
            "grid_gap": null,
            "grid_row": null,
            "grid_template_areas": null,
            "grid_template_columns": null,
            "grid_template_rows": null,
            "height": null,
            "justify_content": null,
            "justify_items": null,
            "left": null,
            "margin": null,
            "max_height": null,
            "max_width": null,
            "min_height": null,
            "min_width": null,
            "object_fit": null,
            "object_position": null,
            "order": null,
            "overflow": null,
            "overflow_x": null,
            "overflow_y": null,
            "padding": null,
            "right": null,
            "top": null,
            "visibility": null,
            "width": null
          }
        },
        "ba815336e2c947989a40f3382f098be0": {
          "model_module": "@jupyter-widgets/controls",
          "model_name": "ProgressStyleModel",
          "model_module_version": "1.5.0",
          "state": {
            "_model_module": "@jupyter-widgets/controls",
            "_model_module_version": "1.5.0",
            "_model_name": "ProgressStyleModel",
            "_view_count": null,
            "_view_module": "@jupyter-widgets/base",
            "_view_module_version": "1.2.0",
            "_view_name": "StyleView",
            "bar_color": null,
            "description_width": ""
          }
        },
        "830ecb8b3ad74b13861ef94f0bd92916": {
          "model_module": "@jupyter-widgets/base",
          "model_name": "LayoutModel",
          "model_module_version": "1.2.0",
          "state": {
            "_model_module": "@jupyter-widgets/base",
            "_model_module_version": "1.2.0",
            "_model_name": "LayoutModel",
            "_view_count": null,
            "_view_module": "@jupyter-widgets/base",
            "_view_module_version": "1.2.0",
            "_view_name": "LayoutView",
            "align_content": null,
            "align_items": null,
            "align_self": null,
            "border": null,
            "bottom": null,
            "display": null,
            "flex": null,
            "flex_flow": null,
            "grid_area": null,
            "grid_auto_columns": null,
            "grid_auto_flow": null,
            "grid_auto_rows": null,
            "grid_column": null,
            "grid_gap": null,
            "grid_row": null,
            "grid_template_areas": null,
            "grid_template_columns": null,
            "grid_template_rows": null,
            "height": null,
            "justify_content": null,
            "justify_items": null,
            "left": null,
            "margin": null,
            "max_height": null,
            "max_width": null,
            "min_height": null,
            "min_width": null,
            "object_fit": null,
            "object_position": null,
            "order": null,
            "overflow": null,
            "overflow_x": null,
            "overflow_y": null,
            "padding": null,
            "right": null,
            "top": null,
            "visibility": null,
            "width": null
          }
        },
        "34b23bec0e96416291ecff8bdb77fcc5": {
          "model_module": "@jupyter-widgets/controls",
          "model_name": "DescriptionStyleModel",
          "model_module_version": "1.5.0",
          "state": {
            "_model_module": "@jupyter-widgets/controls",
            "_model_module_version": "1.5.0",
            "_model_name": "DescriptionStyleModel",
            "_view_count": null,
            "_view_module": "@jupyter-widgets/base",
            "_view_module_version": "1.2.0",
            "_view_name": "StyleView",
            "description_width": ""
          }
        }
      }
    }
  },
  "nbformat": 4,
  "nbformat_minor": 0
}